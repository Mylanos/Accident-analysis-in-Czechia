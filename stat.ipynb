{
 "metadata": {
  "language_info": {
   "codemirror_mode": {
    "name": "ipython",
    "version": 3
   },
   "file_extension": ".py",
   "mimetype": "text/x-python",
   "name": "python",
   "nbconvert_exporter": "python",
   "pygments_lexer": "ipython3",
   "version": "3.8.5-final"
  },
  "orig_nbformat": 2,
  "kernelspec": {
   "name": "python38564bithellocondaeafd8b8d86f4433d8b1cd2c924034814",
   "display_name": "Python 3.8.5 64-bit ('hello': conda)",
   "language": "python"
  }
 },
 "nbformat": 4,
 "nbformat_minor": 2,
 "cells": [
  {
   "cell_type": "code",
   "execution_count": 171,
   "metadata": {},
   "outputs": [],
   "source": [
    "###\n",
    "import numpy as np, pandas as pd\n",
    "import seaborn as sns\n",
    "import scipy.stats\n",
    "import matplotlib.pyplot as plt\n",
    "%matplotlib inline"
   ]
  },
  {
   "cell_type": "code",
   "execution_count": 172,
   "metadata": {},
   "outputs": [
    {
     "output_type": "execute_result",
     "data": {
      "text/plain": [
       "             p1 p36 p37         p2a weekday(p2a)   p2b p6  p7  p8  p9  ...  l  \\\n",
       "0  002100160001   4      2016-01-01            5  0055  1   1   0   2  ...      \n",
       "1  002100160002   4      2016-01-01            5  0130  1   3   0   2  ...      \n",
       "2  002100160003   5      2016-01-01            5  0100  1   2   0   2  ...      \n",
       "3  002100160004   6      2016-01-01            5  0120  9   0   0   2  ...      \n",
       "4  002100160005   6      2016-01-01            5  2560  2   0   0   2  ...      \n",
       "\n",
       "        n  o                       p       q       r       s  \\\n",
       "0  711403     Souhlasnýsesměremúseku  Pomalý  554782  451622   \n",
       "1                                                              \n",
       "2                                                              \n",
       "3                                                              \n",
       "4                                                              \n",
       "\n",
       "                    t  p5a  region  \n",
       "0  GN_V0.1UIR-ADR_410    1     PHA  \n",
       "1                        1     PHA  \n",
       "2                        1     PHA  \n",
       "3                        1     PHA  \n",
       "4                        1     PHA  \n",
       "\n",
       "[5 rows x 65 columns]"
      ],
      "text/html": "<div>\n<style scoped>\n    .dataframe tbody tr th:only-of-type {\n        vertical-align: middle;\n    }\n\n    .dataframe tbody tr th {\n        vertical-align: top;\n    }\n\n    .dataframe thead th {\n        text-align: right;\n    }\n</style>\n<table border=\"1\" class=\"dataframe\">\n  <thead>\n    <tr style=\"text-align: right;\">\n      <th></th>\n      <th>p1</th>\n      <th>p36</th>\n      <th>p37</th>\n      <th>p2a</th>\n      <th>weekday(p2a)</th>\n      <th>p2b</th>\n      <th>p6</th>\n      <th>p7</th>\n      <th>p8</th>\n      <th>p9</th>\n      <th>...</th>\n      <th>l</th>\n      <th>n</th>\n      <th>o</th>\n      <th>p</th>\n      <th>q</th>\n      <th>r</th>\n      <th>s</th>\n      <th>t</th>\n      <th>p5a</th>\n      <th>region</th>\n    </tr>\n  </thead>\n  <tbody>\n    <tr>\n      <th>0</th>\n      <td>002100160001</td>\n      <td>4</td>\n      <td></td>\n      <td>2016-01-01</td>\n      <td>5</td>\n      <td>0055</td>\n      <td>1</td>\n      <td>1</td>\n      <td>0</td>\n      <td>2</td>\n      <td>...</td>\n      <td></td>\n      <td>711403</td>\n      <td></td>\n      <td>Souhlasnýsesměremúseku</td>\n      <td>Pomalý</td>\n      <td>554782</td>\n      <td>451622</td>\n      <td>GN_V0.1UIR-ADR_410</td>\n      <td>1</td>\n      <td>PHA</td>\n    </tr>\n    <tr>\n      <th>1</th>\n      <td>002100160002</td>\n      <td>4</td>\n      <td></td>\n      <td>2016-01-01</td>\n      <td>5</td>\n      <td>0130</td>\n      <td>1</td>\n      <td>3</td>\n      <td>0</td>\n      <td>2</td>\n      <td>...</td>\n      <td></td>\n      <td></td>\n      <td></td>\n      <td></td>\n      <td></td>\n      <td></td>\n      <td></td>\n      <td></td>\n      <td>1</td>\n      <td>PHA</td>\n    </tr>\n    <tr>\n      <th>2</th>\n      <td>002100160003</td>\n      <td>5</td>\n      <td></td>\n      <td>2016-01-01</td>\n      <td>5</td>\n      <td>0100</td>\n      <td>1</td>\n      <td>2</td>\n      <td>0</td>\n      <td>2</td>\n      <td>...</td>\n      <td></td>\n      <td></td>\n      <td></td>\n      <td></td>\n      <td></td>\n      <td></td>\n      <td></td>\n      <td></td>\n      <td>1</td>\n      <td>PHA</td>\n    </tr>\n    <tr>\n      <th>3</th>\n      <td>002100160004</td>\n      <td>6</td>\n      <td></td>\n      <td>2016-01-01</td>\n      <td>5</td>\n      <td>0120</td>\n      <td>9</td>\n      <td>0</td>\n      <td>0</td>\n      <td>2</td>\n      <td>...</td>\n      <td></td>\n      <td></td>\n      <td></td>\n      <td></td>\n      <td></td>\n      <td></td>\n      <td></td>\n      <td></td>\n      <td>1</td>\n      <td>PHA</td>\n    </tr>\n    <tr>\n      <th>4</th>\n      <td>002100160005</td>\n      <td>6</td>\n      <td></td>\n      <td>2016-01-01</td>\n      <td>5</td>\n      <td>2560</td>\n      <td>2</td>\n      <td>0</td>\n      <td>0</td>\n      <td>2</td>\n      <td>...</td>\n      <td></td>\n      <td></td>\n      <td></td>\n      <td></td>\n      <td></td>\n      <td></td>\n      <td></td>\n      <td></td>\n      <td>1</td>\n      <td>PHA</td>\n    </tr>\n  </tbody>\n</table>\n<p>5 rows × 65 columns</p>\n</div>"
     },
     "metadata": {},
     "execution_count": 172
    }
   ],
   "source": [
    "df = pd.read_pickle(\"accidents.pkl.gz\")\n",
    "df.head()"
   ]
  },
  {
   "source": [
    "Načítame dáta"
   ],
   "cell_type": "markdown",
   "metadata": {}
  },
  {
   "cell_type": "code",
   "execution_count": 173,
   "metadata": {},
   "outputs": [
    {
     "output_type": "execute_result",
     "data": {
      "text/plain": [
       "        influence  hard casualties  deaths  casualties\n",
       "0               2                0       0           0\n",
       "1               2                0       0           0\n",
       "2               2                0       0           0\n",
       "3               9                0       0           0\n",
       "5               2                0       0           0\n",
       "...           ...              ...     ...         ...\n",
       "487153          2                0       0           0\n",
       "487154          2                0       0           0\n",
       "487155          2                0       0           0\n",
       "487157          2                0       0           0\n",
       "487159          2                0       0           0\n",
       "\n",
       "[290987 rows x 4 columns]"
      ],
      "text/html": "<div>\n<style scoped>\n    .dataframe tbody tr th:only-of-type {\n        vertical-align: middle;\n    }\n\n    .dataframe tbody tr th {\n        vertical-align: top;\n    }\n\n    .dataframe thead th {\n        text-align: right;\n    }\n</style>\n<table border=\"1\" class=\"dataframe\">\n  <thead>\n    <tr style=\"text-align: right;\">\n      <th></th>\n      <th>influence</th>\n      <th>hard casualties</th>\n      <th>deaths</th>\n      <th>casualties</th>\n    </tr>\n  </thead>\n  <tbody>\n    <tr>\n      <th>0</th>\n      <td>2</td>\n      <td>0</td>\n      <td>0</td>\n      <td>0</td>\n    </tr>\n    <tr>\n      <th>1</th>\n      <td>2</td>\n      <td>0</td>\n      <td>0</td>\n      <td>0</td>\n    </tr>\n    <tr>\n      <th>2</th>\n      <td>2</td>\n      <td>0</td>\n      <td>0</td>\n      <td>0</td>\n    </tr>\n    <tr>\n      <th>3</th>\n      <td>9</td>\n      <td>0</td>\n      <td>0</td>\n      <td>0</td>\n    </tr>\n    <tr>\n      <th>5</th>\n      <td>2</td>\n      <td>0</td>\n      <td>0</td>\n      <td>0</td>\n    </tr>\n    <tr>\n      <th>...</th>\n      <td>...</td>\n      <td>...</td>\n      <td>...</td>\n      <td>...</td>\n    </tr>\n    <tr>\n      <th>487153</th>\n      <td>2</td>\n      <td>0</td>\n      <td>0</td>\n      <td>0</td>\n    </tr>\n    <tr>\n      <th>487154</th>\n      <td>2</td>\n      <td>0</td>\n      <td>0</td>\n      <td>0</td>\n    </tr>\n    <tr>\n      <th>487155</th>\n      <td>2</td>\n      <td>0</td>\n      <td>0</td>\n      <td>0</td>\n    </tr>\n    <tr>\n      <th>487157</th>\n      <td>2</td>\n      <td>0</td>\n      <td>0</td>\n      <td>0</td>\n    </tr>\n    <tr>\n      <th>487159</th>\n      <td>2</td>\n      <td>0</td>\n      <td>0</td>\n      <td>0</td>\n    </tr>\n  </tbody>\n</table>\n<p>290987 rows × 4 columns</p>\n</div>"
     },
     "metadata": {},
     "execution_count": 173
    }
   ],
   "source": [
    "# vylouceni None hodnot a zaznamov s drogami\n",
    "df = df[df['p11'].notna()]\n",
    "df = df[df['p11'] != 4]\n",
    "df = df[df['p11'] > 0]\n",
    "df = df[df['p11'] != 5]\n",
    "df = df[df['p13a'].notna()]\n",
    "df = df[df['p13b'].notna()]\n",
    "\n",
    "df_bis = pd.DataFrame({\n",
    "          'influence': df['p11'] , # pod akym vplyvom bol vodic\n",
    "          'hard casualties': df['p13a'] + df['p13b'], # pocet usmrtenych alebo tazko zranenych osob\n",
    "          'deaths': df['p13a'], # smrti\n",
    "          'casualties': df['p13b'],\n",
    "         })\n",
    "\n",
    "df_bis"
   ]
  },
  {
   "source": [
    "Vytvorenie dataframu so sledovanymi hodnotami, ocistenie hodnot"
   ],
   "cell_type": "markdown",
   "metadata": {}
  },
  {
   "cell_type": "code",
   "execution_count": 174,
   "metadata": {},
   "outputs": [
    {
     "output_type": "execute_result",
     "data": {
      "text/plain": [
       "0.019817008094510473"
      ]
     },
     "metadata": {},
     "execution_count": 174
    }
   ],
   "source": [
    "corr_coefficient, two_tailed_p  = scipy.stats.pearsonr(df_bis[\"hard casualties\"], df_bis[\"influence\"]) # vraci pearson coef + p-value\n",
    "corr_coefficient"
   ]
  },
  {
   "source": [
    "Vykoname korelačnú analýzu pre určenie miery závislosti premenných. Použijem výpočet pearsonovho korelačného koeficienta, ktorý meria štatistický vzťah alebo asociáciu medzi dvoma spojitými premennými.\n",
    "\n",
    "\n",
    "Hodnota 0.01981 ukazuje na pozitivnu koreláciu medzi skúmanými premennými, tzn. čím vyššie percento alkoholu v krvi vodiča, tým je väčšia šanca výskytu nejakých zranení/podľahnutí (což se dalo očekávat), spôsobených vodičovov zníženov schopnosťou šoférovať vozidlo. Dá se povedať, že $pvalue \\le 0.05$, a preto je korelácia významná."
   ],
   "cell_type": "markdown",
   "metadata": {}
  },
  {
   "cell_type": "code",
   "execution_count": 175,
   "metadata": {},
   "outputs": [
    {
     "output_type": "execute_result",
     "data": {
      "text/plain": [
       "        influence  hard casualties  deaths  casualties  had hard casualties  \\\n",
       "0               2                0       0           0                False   \n",
       "1               2                0       0           0                False   \n",
       "2               2                0       0           0                False   \n",
       "3               9                0       0           0                False   \n",
       "5               2                0       0           0                False   \n",
       "...           ...              ...     ...         ...                  ...   \n",
       "487153          2                0       0           0                False   \n",
       "487154          2                0       0           0                False   \n",
       "487155          2                0       0           0                False   \n",
       "487157          2                0       0           0                False   \n",
       "487159          2                0       0           0                False   \n",
       "\n",
       "        very drunk driver  \n",
       "0                   False  \n",
       "1                   False  \n",
       "2                   False  \n",
       "3                    True  \n",
       "5                   False  \n",
       "...                   ...  \n",
       "487153              False  \n",
       "487154              False  \n",
       "487155              False  \n",
       "487157              False  \n",
       "487159              False  \n",
       "\n",
       "[290987 rows x 6 columns]"
      ],
      "text/html": "<div>\n<style scoped>\n    .dataframe tbody tr th:only-of-type {\n        vertical-align: middle;\n    }\n\n    .dataframe tbody tr th {\n        vertical-align: top;\n    }\n\n    .dataframe thead th {\n        text-align: right;\n    }\n</style>\n<table border=\"1\" class=\"dataframe\">\n  <thead>\n    <tr style=\"text-align: right;\">\n      <th></th>\n      <th>influence</th>\n      <th>hard casualties</th>\n      <th>deaths</th>\n      <th>casualties</th>\n      <th>had hard casualties</th>\n      <th>very drunk driver</th>\n    </tr>\n  </thead>\n  <tbody>\n    <tr>\n      <th>0</th>\n      <td>2</td>\n      <td>0</td>\n      <td>0</td>\n      <td>0</td>\n      <td>False</td>\n      <td>False</td>\n    </tr>\n    <tr>\n      <th>1</th>\n      <td>2</td>\n      <td>0</td>\n      <td>0</td>\n      <td>0</td>\n      <td>False</td>\n      <td>False</td>\n    </tr>\n    <tr>\n      <th>2</th>\n      <td>2</td>\n      <td>0</td>\n      <td>0</td>\n      <td>0</td>\n      <td>False</td>\n      <td>False</td>\n    </tr>\n    <tr>\n      <th>3</th>\n      <td>9</td>\n      <td>0</td>\n      <td>0</td>\n      <td>0</td>\n      <td>False</td>\n      <td>True</td>\n    </tr>\n    <tr>\n      <th>5</th>\n      <td>2</td>\n      <td>0</td>\n      <td>0</td>\n      <td>0</td>\n      <td>False</td>\n      <td>False</td>\n    </tr>\n    <tr>\n      <th>...</th>\n      <td>...</td>\n      <td>...</td>\n      <td>...</td>\n      <td>...</td>\n      <td>...</td>\n      <td>...</td>\n    </tr>\n    <tr>\n      <th>487153</th>\n      <td>2</td>\n      <td>0</td>\n      <td>0</td>\n      <td>0</td>\n      <td>False</td>\n      <td>False</td>\n    </tr>\n    <tr>\n      <th>487154</th>\n      <td>2</td>\n      <td>0</td>\n      <td>0</td>\n      <td>0</td>\n      <td>False</td>\n      <td>False</td>\n    </tr>\n    <tr>\n      <th>487155</th>\n      <td>2</td>\n      <td>0</td>\n      <td>0</td>\n      <td>0</td>\n      <td>False</td>\n      <td>False</td>\n    </tr>\n    <tr>\n      <th>487157</th>\n      <td>2</td>\n      <td>0</td>\n      <td>0</td>\n      <td>0</td>\n      <td>False</td>\n      <td>False</td>\n    </tr>\n    <tr>\n      <th>487159</th>\n      <td>2</td>\n      <td>0</td>\n      <td>0</td>\n      <td>0</td>\n      <td>False</td>\n      <td>False</td>\n    </tr>\n  </tbody>\n</table>\n<p>290987 rows × 6 columns</p>\n</div>"
     },
     "metadata": {},
     "execution_count": 175
    }
   ],
   "source": [
    "# vytvorit sloupce results, kde je points > median\n",
    "df_bis['had hard casualties'] = (df_bis['hard casualties'] >\n",
    "                    0)\n",
    "# a sloupec manyaces > median\n",
    "df_bis['very drunk driver'] = (df_bis['influence'] >= 7)\n",
    "df_bis"
   ]
  },
  {
   "source": [
    "## $\\chi^2$ test\n",
    "Test statistickej významnosti iným spôsobom. Využijeme **$\\chi^2$ chí-kvadrát testu** (chi-square test).\n",
    "* viník nehody byl pod silným vlivem alkoholu, pokud p11 >= 7,\n",
    "* těžké zdravotní následky nastaly, pokud došlo k usmrcení či těžkému zranění (p13a + p13b > 0) a\n"
   ],
   "cell_type": "markdown",
   "metadata": {}
  },
  {
   "cell_type": "code",
   "execution_count": 176,
   "metadata": {},
   "outputs": [
    {
     "output_type": "execute_result",
     "data": {
      "text/plain": [
       "had hard casualties   False  True \n",
       "very drunk driver                 \n",
       "False                264463   9146\n",
       "True                  16492    886"
      ],
      "text/html": "<div>\n<style scoped>\n    .dataframe tbody tr th:only-of-type {\n        vertical-align: middle;\n    }\n\n    .dataframe tbody tr th {\n        vertical-align: top;\n    }\n\n    .dataframe thead th {\n        text-align: right;\n    }\n</style>\n<table border=\"1\" class=\"dataframe\">\n  <thead>\n    <tr style=\"text-align: right;\">\n      <th>had hard casualties</th>\n      <th>False</th>\n      <th>True</th>\n    </tr>\n    <tr>\n      <th>very drunk driver</th>\n      <th></th>\n      <th></th>\n    </tr>\n  </thead>\n  <tbody>\n    <tr>\n      <th>False</th>\n      <td>264463</td>\n      <td>9146</td>\n    </tr>\n    <tr>\n      <th>True</th>\n      <td>16492</td>\n      <td>886</td>\n    </tr>\n  </tbody>\n</table>\n</div>"
     },
     "metadata": {},
     "execution_count": 176
    }
   ],
   "source": [
    "ct = pd.crosstab(df_bis['very drunk driver'], df_bis['had hard casualties'])\n",
    "ct ###"
   ]
  },
  {
   "source": [
    "Vytvorím si kontingenčnú tabulku pre všetky štyri kombinácie vstupov."
   ],
   "cell_type": "markdown",
   "metadata": {}
  },
  {
   "cell_type": "code",
   "execution_count": 177,
   "metadata": {},
   "outputs": [
    {
     "output_type": "execute_result",
     "data": {
      "text/plain": [
       "1.1690773957533103e-34"
      ]
     },
     "metadata": {},
     "execution_count": 177
    }
   ],
   "source": [
    "xi2, p, dof, expected = scipy.stats.chi2_contingency(ct)\n",
    "p"
   ]
  },
  {
   "source": [
    "Funkce spočíta chí-kvadrát štatistiku a p-hodnotu pre test nezávislosti v kontingenčnej tabulke. Táto funkcia vráti viac hodnoty (xi2, p-value, DF, E), nás zaujíma druhá hodnota (p-hodnota).\n",
    "\n",
    "Hodnota $1.169\\cdot10^{-34}$ je oveľa menšia než $0.05$. Preto zamietame nulovú hypotézu a môžeme prehlásit, že korelácia je štatisticky významná medzi množstvom alkoholu v krvi u šoféra vozidla a množstvom ťažkých zranení v nehodách."
   ],
   "cell_type": "markdown",
   "metadata": {}
  }
 ]
}